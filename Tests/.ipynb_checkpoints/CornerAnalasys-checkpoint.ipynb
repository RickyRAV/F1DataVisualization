{
 "cells": [
  {
   "cell_type": "code",
   "execution_count": 1,
   "id": "0770050e-1cc4-4f41-be1b-60b35aa017fa",
   "metadata": {
    "tags": []
   },
   "outputs": [],
   "source": [
    "import numpy as np\n",
    "import pandas as pd \n",
    "import fastf1 as ff1\n",
    "from fastf1 import plotting\n",
    "from matplotlib import pyplot as plt\n",
    "from matplotlib.pyplot import figure\n",
    "from matplotlib.image import imread\n",
    "from PIL import Image"
   ]
  },
  {
   "cell_type": "code",
   "execution_count": 2,
   "id": "418a9e63-b104-41e7-82b4-66919494f76f",
   "metadata": {
    "tags": []
   },
   "outputs": [],
   "source": [
    "ff1.Cache.enable_cache('../cache')"
   ]
  },
  {
   "cell_type": "code",
   "execution_count": 3,
   "id": "abf136d7-1654-4a14-bfcd-f983609f011c",
   "metadata": {
    "tags": []
   },
   "outputs": [
    {
     "name": "stderr",
     "output_type": "stream",
     "text": [
      "C:\\Users\\getou\\AppData\\Local\\Programs\\Python\\Python311\\Lib\\site-packages\\fastf1\\core.py:1220: FutureWarning: `Session.load_laps` is deprecated and will beremoved in a future version.\n",
      "Use `Session.load` instead.\n",
      "  warnings.warn(\"`Session.load_laps` is deprecated and will be\"\n",
      "core           INFO \tLoading data for Azerbaijan Grand Prix - Qualifying [v2.3.1]\n",
      "api            INFO \tUsing cached data for driver_info\n",
      "api            INFO \tUsing cached data for timing_data\n",
      "api            INFO \tUsing cached data for timing_app_data\n",
      "core           INFO \tProcessing timing data...\n",
      "api            INFO \tUsing cached data for session_status_data\n",
      "api            INFO \tUsing cached data for track_status_data\n",
      "C:\\Users\\getou\\AppData\\Local\\Programs\\Python\\Python311\\Lib\\site-packages\\fastf1\\core.py:1415: FutureWarning: In a future version, object-dtype columns with all-bool values will not be included in reductions with bool_only=True. Explicitly cast to bool dtype instead.\n",
      "  df = pd.concat([df, result], sort=False)\n",
      "C:\\Users\\getou\\AppData\\Local\\Programs\\Python\\Python311\\Lib\\site-packages\\fastf1\\core.py:1492: FutureWarning: iteritems is deprecated and will be removed in a future version. Use .items instead.\n",
      "  for key, value in row.iteritems():\n",
      "C:\\Users\\getou\\AppData\\Local\\Programs\\Python\\Python311\\Lib\\site-packages\\fastf1\\core.py:1415: FutureWarning: In a future version, object-dtype columns with all-bool values will not be included in reductions with bool_only=True. Explicitly cast to bool dtype instead.\n",
      "  df = pd.concat([df, result], sort=False)\n",
      "C:\\Users\\getou\\AppData\\Local\\Programs\\Python\\Python311\\Lib\\site-packages\\fastf1\\core.py:1492: FutureWarning: iteritems is deprecated and will be removed in a future version. Use .items instead.\n",
      "  for key, value in row.iteritems():\n",
      "C:\\Users\\getou\\AppData\\Local\\Programs\\Python\\Python311\\Lib\\site-packages\\fastf1\\core.py:1415: FutureWarning: In a future version, object-dtype columns with all-bool values will not be included in reductions with bool_only=True. Explicitly cast to bool dtype instead.\n",
      "  df = pd.concat([df, result], sort=False)\n",
      "C:\\Users\\getou\\AppData\\Local\\Programs\\Python\\Python311\\Lib\\site-packages\\fastf1\\core.py:1492: FutureWarning: iteritems is deprecated and will be removed in a future version. Use .items instead.\n",
      "  for key, value in row.iteritems():\n",
      "C:\\Users\\getou\\AppData\\Local\\Programs\\Python\\Python311\\Lib\\site-packages\\fastf1\\core.py:1415: FutureWarning: In a future version, object-dtype columns with all-bool values will not be included in reductions with bool_only=True. Explicitly cast to bool dtype instead.\n",
      "  df = pd.concat([df, result], sort=False)\n",
      "C:\\Users\\getou\\AppData\\Local\\Programs\\Python\\Python311\\Lib\\site-packages\\fastf1\\core.py:1415: FutureWarning: In a future version, object-dtype columns with all-bool values will not be included in reductions with bool_only=True. Explicitly cast to bool dtype instead.\n",
      "  df = pd.concat([df, result], sort=False)\n",
      "C:\\Users\\getou\\AppData\\Local\\Programs\\Python\\Python311\\Lib\\site-packages\\fastf1\\core.py:1415: FutureWarning: In a future version, object-dtype columns with all-bool values will not be included in reductions with bool_only=True. Explicitly cast to bool dtype instead.\n",
      "  df = pd.concat([df, result], sort=False)\n",
      "C:\\Users\\getou\\AppData\\Local\\Programs\\Python\\Python311\\Lib\\site-packages\\fastf1\\core.py:1415: FutureWarning: In a future version, object-dtype columns with all-bool values will not be included in reductions with bool_only=True. Explicitly cast to bool dtype instead.\n",
      "  df = pd.concat([df, result], sort=False)\n",
      "C:\\Users\\getou\\AppData\\Local\\Programs\\Python\\Python311\\Lib\\site-packages\\fastf1\\core.py:1415: FutureWarning: In a future version, object-dtype columns with all-bool values will not be included in reductions with bool_only=True. Explicitly cast to bool dtype instead.\n",
      "  df = pd.concat([df, result], sort=False)\n",
      "C:\\Users\\getou\\AppData\\Local\\Programs\\Python\\Python311\\Lib\\site-packages\\fastf1\\core.py:1492: FutureWarning: iteritems is deprecated and will be removed in a future version. Use .items instead.\n",
      "  for key, value in row.iteritems():\n",
      "C:\\Users\\getou\\AppData\\Local\\Programs\\Python\\Python311\\Lib\\site-packages\\fastf1\\core.py:1415: FutureWarning: In a future version, object-dtype columns with all-bool values will not be included in reductions with bool_only=True. Explicitly cast to bool dtype instead.\n",
      "  df = pd.concat([df, result], sort=False)\n",
      "C:\\Users\\getou\\AppData\\Local\\Programs\\Python\\Python311\\Lib\\site-packages\\fastf1\\core.py:1415: FutureWarning: In a future version, object-dtype columns with all-bool values will not be included in reductions with bool_only=True. Explicitly cast to bool dtype instead.\n",
      "  df = pd.concat([df, result], sort=False)\n",
      "C:\\Users\\getou\\AppData\\Local\\Programs\\Python\\Python311\\Lib\\site-packages\\fastf1\\core.py:1492: FutureWarning: iteritems is deprecated and will be removed in a future version. Use .items instead.\n",
      "  for key, value in row.iteritems():\n",
      "C:\\Users\\getou\\AppData\\Local\\Programs\\Python\\Python311\\Lib\\site-packages\\fastf1\\core.py:1415: FutureWarning: In a future version, object-dtype columns with all-bool values will not be included in reductions with bool_only=True. Explicitly cast to bool dtype instead.\n",
      "  df = pd.concat([df, result], sort=False)\n",
      "C:\\Users\\getou\\AppData\\Local\\Programs\\Python\\Python311\\Lib\\site-packages\\fastf1\\core.py:1415: FutureWarning: In a future version, object-dtype columns with all-bool values will not be included in reductions with bool_only=True. Explicitly cast to bool dtype instead.\n",
      "  df = pd.concat([df, result], sort=False)\n",
      "C:\\Users\\getou\\AppData\\Local\\Programs\\Python\\Python311\\Lib\\site-packages\\fastf1\\core.py:1492: FutureWarning: iteritems is deprecated and will be removed in a future version. Use .items instead.\n",
      "  for key, value in row.iteritems():\n",
      "C:\\Users\\getou\\AppData\\Local\\Programs\\Python\\Python311\\Lib\\site-packages\\fastf1\\core.py:1415: FutureWarning: In a future version, object-dtype columns with all-bool values will not be included in reductions with bool_only=True. Explicitly cast to bool dtype instead.\n",
      "  df = pd.concat([df, result], sort=False)\n",
      "C:\\Users\\getou\\AppData\\Local\\Programs\\Python\\Python311\\Lib\\site-packages\\fastf1\\core.py:1415: FutureWarning: In a future version, object-dtype columns with all-bool values will not be included in reductions with bool_only=True. Explicitly cast to bool dtype instead.\n",
      "  df = pd.concat([df, result], sort=False)\n",
      "C:\\Users\\getou\\AppData\\Local\\Programs\\Python\\Python311\\Lib\\site-packages\\fastf1\\core.py:1415: FutureWarning: In a future version, object-dtype columns with all-bool values will not be included in reductions with bool_only=True. Explicitly cast to bool dtype instead.\n",
      "  df = pd.concat([df, result], sort=False)\n",
      "C:\\Users\\getou\\AppData\\Local\\Programs\\Python\\Python311\\Lib\\site-packages\\fastf1\\core.py:1415: FutureWarning: In a future version, object-dtype columns with all-bool values will not be included in reductions with bool_only=True. Explicitly cast to bool dtype instead.\n",
      "  df = pd.concat([df, result], sort=False)\n",
      "C:\\Users\\getou\\AppData\\Local\\Programs\\Python\\Python311\\Lib\\site-packages\\fastf1\\core.py:1415: FutureWarning: In a future version, object-dtype columns with all-bool values will not be included in reductions with bool_only=True. Explicitly cast to bool dtype instead.\n",
      "  df = pd.concat([df, result], sort=False)\n",
      "C:\\Users\\getou\\AppData\\Local\\Programs\\Python\\Python311\\Lib\\site-packages\\fastf1\\core.py:1415: FutureWarning: In a future version, object-dtype columns with all-bool values will not be included in reductions with bool_only=True. Explicitly cast to bool dtype instead.\n",
      "  df = pd.concat([df, result], sort=False)\n",
      "C:\\Users\\getou\\AppData\\Local\\Programs\\Python\\Python311\\Lib\\site-packages\\fastf1\\core.py:1415: FutureWarning: In a future version, object-dtype columns with all-bool values will not be included in reductions with bool_only=True. Explicitly cast to bool dtype instead.\n",
      "  df = pd.concat([df, result], sort=False)\n",
      "api            INFO \tUsing cached data for car_data\n",
      "api            INFO \tUsing cached data for position_data\n",
      "api            INFO \tUsing cached data for weather_data\n",
      "api            INFO \tUsing cached data for race_control_messages\n",
      "core           INFO \tFinished loading data for 20 drivers: ['16', '1', '11', '55', '44', '14', '4', '22', '18', '81', '63', '31', '23', '77', '2', '24', '27', '20', '10', '21']\n"
     ]
    }
   ],
   "source": [
    "year, event, event_type = 2023, 'Azerbaijan', 'Q'\n",
    "session = ff1.get_session(year, event, event_type)\n",
    "laps = session.load_laps(with_telemetry=True)"
   ]
  },
  {
   "cell_type": "code",
   "execution_count": 28,
   "id": "ff6c4dd6-f436-493f-b3d5-6a97467e4f45",
   "metadata": {
    "tags": []
   },
   "outputs": [],
   "source": [
    "driver_1, driver_2 = 'LEC', 'VER'\n",
    "distance_min, distance_max = 2900, 4000"
   ]
  },
  {
   "cell_type": "code",
   "execution_count": 29,
   "id": "f3fc2f1b-ca0e-4a3b-a94a-8c24302347f4",
   "metadata": {
    "tags": []
   },
   "outputs": [],
   "source": [
    "laps_driver_1 = laps.pick_driver(driver_1)\n",
    "laps_driver_2 = laps.pick_driver(driver_2)\n",
    "#lap_12 = laps_driver_1.loc[laps_driver_1['LapNumber'] == 12]\n",
    "#idk_mate = laps_driver_1.loc[laps_driver_1['LapNumber'] == 13]\n",
    "\n",
    "telemetry_driver_1 = laps_driver_1.pick_fastest().get_car_data().add_distance()\n",
    "telemetry_driver_2 = laps_driver_2.pick_fastest().get_car_data().add_distance()\n",
    "\n",
    "team_driver_1 = laps_driver_1.reset_index().loc[0, 'Team']\n",
    "team_driver_2 = laps_driver_2.reset_index().loc[0, 'Team']"
   ]
  },
  {
   "cell_type": "code",
   "execution_count": 30,
   "id": "0f10392f-f93c-4d08-bed0-ecbef6b0f13f",
   "metadata": {
    "tags": []
   },
   "outputs": [],
   "source": [
    "telemetry_driver_1.loc[telemetry_driver_1['Brake'] > 0, 'CurrentAction'] = 'Brake'\n",
    "telemetry_driver_1.loc[telemetry_driver_1['Throttle'] == 100, 'CurrentAction'] = 'Full Throttle'\n",
    "telemetry_driver_1.loc[(telemetry_driver_1['Brake'] == 0) & (telemetry_driver_1['Throttle'] < 100), 'CurrentAction'] = 'Cornering'\n",
    "\n",
    "telemetry_driver_2.loc[telemetry_driver_2['Brake'] > 0, 'CurrentAction'] = 'Brake'\n",
    "telemetry_driver_2.loc[telemetry_driver_2['Throttle'] == 100, 'CurrentAction'] = 'Full Throttle'\n",
    "telemetry_driver_2.loc[(telemetry_driver_2['Brake'] == 0) & (telemetry_driver_2['Throttle'] < 100), 'CurrentAction'] = 'Cornering'"
   ]
  },
  {
   "cell_type": "code",
   "execution_count": 31,
   "id": "6540d5d8-7adf-4a44-bf5b-433ba6f25735",
   "metadata": {
    "tags": []
   },
   "outputs": [],
   "source": [
    "telemetry_driver_1['ActionID'] = (telemetry_driver_1['CurrentAction'] != telemetry_driver_1['CurrentAction'].shift(1)).cumsum()\n",
    "telemetry_driver_2['ActionID'] = (telemetry_driver_2['CurrentAction'] != telemetry_driver_2['CurrentAction'].shift(1)).cumsum()"
   ]
  },
  {
   "cell_type": "code",
   "execution_count": 32,
   "id": "fbbba645-6530-40e8-bb84-9899c8160b60",
   "metadata": {
    "tags": []
   },
   "outputs": [],
   "source": [
    "actions_driver_1 = telemetry_driver_1[['ActionID', 'CurrentAction', 'Distance']].groupby(['ActionID', 'CurrentAction']).max('Distance').reset_index()\n",
    "actions_driver_2 = telemetry_driver_2[['ActionID', 'CurrentAction', 'Distance']].groupby(['ActionID', 'CurrentAction']).max('Distance').reset_index()\n",
    "\n",
    "actions_driver_1['Driver'] = driver_1\n",
    "actions_driver_2['Driver'] = driver_2"
   ]
  },
  {
   "cell_type": "code",
   "execution_count": 33,
   "id": "941a892c-3471-45b0-9d0a-38cd1e265a8d",
   "metadata": {
    "tags": []
   },
   "outputs": [],
   "source": [
    "actions_driver_1['DistanceDelta'] = actions_driver_1['Distance'] - actions_driver_1['Distance'].shift(1)\n",
    "actions_driver_1.loc[0, 'DistanceDelta'] = actions_driver_1.loc[0, 'Distance']\n",
    "\n",
    "actions_driver_2['DistanceDelta'] = actions_driver_2['Distance'] - actions_driver_2['Distance'].shift(1)\n",
    "actions_driver_2.loc[0, 'DistanceDelta'] = actions_driver_2.loc[0, 'Distance']"
   ]
  },
  {
   "cell_type": "code",
   "execution_count": 34,
   "id": "de19a4e4-043b-48da-a84d-281c8e741773",
   "metadata": {
    "tags": []
   },
   "outputs": [
    {
     "name": "stderr",
     "output_type": "stream",
     "text": [
      "C:\\Users\\getou\\AppData\\Local\\Temp\\ipykernel_28552\\3193369198.py:1: FutureWarning: The frame.append method is deprecated and will be removed from pandas in a future version. Use pandas.concat instead.\n",
      "  all_actions = actions_driver_1.append(actions_driver_2)\n"
     ]
    }
   ],
   "source": [
    "all_actions = actions_driver_1.append(actions_driver_2)"
   ]
  },
  {
   "cell_type": "code",
   "execution_count": 35,
   "id": "fc36d643-ef6b-4e18-b4b7-865d74c7ccc2",
   "metadata": {
    "tags": []
   },
   "outputs": [],
   "source": [
    "avg_speed_driver_1 = np.mean(telemetry_driver_1['Speed'].loc[\n",
    "    (telemetry_driver_1['Distance'] >= distance_min) & \n",
    "        (telemetry_driver_1['Distance'] <= distance_max) \n",
    "])\n",
    "\n",
    "\n",
    "avg_speed_driver_2 = np.mean(telemetry_driver_2['Speed'].loc[\n",
    "    (telemetry_driver_2['Distance'] >= distance_min) & \n",
    "        (telemetry_driver_2['Distance'] <= distance_max) \n",
    "])\n",
    "\n",
    "if avg_speed_driver_1 > avg_speed_driver_2:    \n",
    "    speed_text = f\"{driver_1} {round(avg_speed_driver_1 - avg_speed_driver_2,2)}km/h faster\"\n",
    "else:\n",
    "    speed_text = f\"{driver_2} {round(avg_speed_driver_2 - avg_speed_driver_1,2)}km/h faster\"\n"
   ]
  },
  {
   "cell_type": "code",
   "execution_count": 36,
   "id": "bb73eb3c-b7b5-4194-881e-2a3bde5044ae",
   "metadata": {
    "tags": []
   },
   "outputs": [],
   "source": [
    "# Add a column for TimeDelta to the telemetry data\n",
    "telemetry_driver_1['TimeDelta'] = telemetry_driver_1['Time'].diff().fillna(pd.Timedelta(seconds=0))\n",
    "telemetry_driver_2['TimeDelta'] = telemetry_driver_2['Time'].diff().fillna(pd.Timedelta(seconds=0))\n",
    "\n",
    "# Calculate total time of the telemetry data for each driver (convert to seconds)\n",
    "total_time_driver_1 = telemetry_driver_1.iloc[-1]['Time'].total_seconds()\n",
    "total_time_driver_2 = telemetry_driver_2.iloc[-1]['Time'].total_seconds()\n",
    "\n",
    "# Calculate total time spent at full throttle for each driver (convert TimeDelta to seconds)\n",
    "full_throttle_time_driver_1 = telemetry_driver_1.loc[telemetry_driver_1['CurrentAction'] == 'Full Throttle', 'TimeDelta'].sum().total_seconds()\n",
    "full_throttle_time_driver_2 = telemetry_driver_2.loc[telemetry_driver_2['CurrentAction'] == 'Full Throttle', 'TimeDelta'].sum().total_seconds()\n",
    "\n",
    "# Calculate the percentage of time spent at full throttle for each driver\n",
    "full_throttle_percentage_driver_1 = (full_throttle_time_driver_1 / total_time_driver_1) * 100\n",
    "full_throttle_percentage_driver_2 = (full_throttle_time_driver_2 / total_time_driver_2) * 100"
   ]
  },
  {
   "cell_type": "code",
   "execution_count": 37,
   "id": "827a978b-f5a5-4045-a998-c86f80e68e1e",
   "metadata": {
    "tags": []
   },
   "outputs": [],
   "source": [
    "plot_width = 13\n",
    "plot_height = 4\n",
    "plot_size = [plot_width, plot_height]\n",
    "title_font_size = int(2 * plot_height)  # Adjust the 0.15 multiplier to your liking\n",
    "axis_label_font_size = int(1.5 * plot_height)  # Adjust the 0.1 multiplier to your liking\n",
    "autolayout = True\n",
    "plot_title = f\"{driver_1} Time Spent at Full Throttle: {full_throttle_percentage_driver_1: .2f}% \\n {driver_2} Time Spent at Full Throttle: {full_throttle_percentage_driver_2: .2f}%\"\n",
    "plot_file = f\"{session.event.year} {session.event.EventName}-{driver_1} VS {driver_2}-CornerAnalasys\"\n",
    "plot_ratios = [7,7]\n",
    "plot_filename = plot_file.replace(\" \", \"\") + \".png\"\n",
    "logo_path = '../RCKMG_logo.png'\n",
    "logo_img = Image.open(logo_path)"
   ]
  },
  {
   "cell_type": "code",
   "execution_count": 77,
   "id": "170801ec-bd45-4de8-bc8e-50154f98cd50",
   "metadata": {
    "tags": []
   },
   "outputs": [
    {
     "ename": "AttributeError",
     "evalue": "FancyArrowPatch.set() got an unexpected keyword argument 'foreground'",
     "output_type": "error",
     "traceback": [
      "\u001b[1;31m---------------------------------------------------------------------------\u001b[0m",
      "\u001b[1;31mAttributeError\u001b[0m                            Traceback (most recent call last)",
      "Cell \u001b[1;32mIn[77], line 35\u001b[0m\n\u001b[0;32m     28\u001b[0m ax[\u001b[38;5;241m0\u001b[39m]\u001b[38;5;241m.\u001b[39mannotate(\u001b[38;5;124mf\u001b[39m\u001b[38;5;124m'\u001b[39m\u001b[38;5;124mMax Speed: \u001b[39m\u001b[38;5;132;01m{\u001b[39;00mmax_speed_driver_1\u001b[38;5;132;01m:\u001b[39;00m\u001b[38;5;124m.2f\u001b[39m\u001b[38;5;132;01m}\u001b[39;00m\u001b[38;5;124m km/h\u001b[39m\u001b[38;5;124m'\u001b[39m,\n\u001b[0;32m     29\u001b[0m                xy\u001b[38;5;241m=\u001b[39m(max_speed_distance_driver_1, max_speed_driver_1),\n\u001b[0;32m     30\u001b[0m                xytext\u001b[38;5;241m=\u001b[39m(max_speed_distance_driver_1 \u001b[38;5;241m-\u001b[39m \u001b[38;5;241m400\u001b[39m, max_speed_driver_1 \u001b[38;5;241m+\u001b[39m \u001b[38;5;241m20\u001b[39m),\n\u001b[0;32m     31\u001b[0m                arrowprops\u001b[38;5;241m=\u001b[39m\u001b[38;5;28mdict\u001b[39m(facecolor\u001b[38;5;241m=\u001b[39m\u001b[38;5;124m'\u001b[39m\u001b[38;5;124mblack\u001b[39m\u001b[38;5;124m'\u001b[39m, arrowstyle\u001b[38;5;241m=\u001b[39m\u001b[38;5;124m'\u001b[39m\u001b[38;5;124m->\u001b[39m\u001b[38;5;124m'\u001b[39m),\n\u001b[0;32m     32\u001b[0m                fontsize\u001b[38;5;241m=\u001b[39m\u001b[38;5;241m10\u001b[39m)\n\u001b[0;32m     34\u001b[0m \u001b[38;5;66;03m# Annotate the maximum speed for driver 2 within the thresholds\u001b[39;00m\n\u001b[1;32m---> 35\u001b[0m \u001b[43max\u001b[49m\u001b[43m[\u001b[49m\u001b[38;5;241;43m0\u001b[39;49m\u001b[43m]\u001b[49m\u001b[38;5;241;43m.\u001b[39;49m\u001b[43mannotate\u001b[49m\u001b[43m(\u001b[49m\u001b[38;5;124;43mf\u001b[39;49m\u001b[38;5;124;43m'\u001b[39;49m\u001b[38;5;132;43;01m{\u001b[39;49;00m\u001b[43mmax_speed_driver_2\u001b[49m\u001b[38;5;132;43;01m}\u001b[39;49;00m\u001b[38;5;124;43m km/h\u001b[39;49m\u001b[38;5;124;43m'\u001b[39;49m\u001b[43m,\u001b[49m\n\u001b[0;32m     36\u001b[0m \u001b[43m               \u001b[49m\u001b[43mxy\u001b[49m\u001b[38;5;241;43m=\u001b[39;49m\u001b[43m(\u001b[49m\u001b[43mmax_speed_distance_driver_2\u001b[49m\u001b[43m,\u001b[49m\u001b[43m \u001b[49m\u001b[43mmax_speed_driver_2\u001b[49m\u001b[43m)\u001b[49m\u001b[43m,\u001b[49m\n\u001b[0;32m     37\u001b[0m \u001b[43m               \u001b[49m\u001b[43mxytext\u001b[49m\u001b[38;5;241;43m=\u001b[39;49m\u001b[43m(\u001b[49m\u001b[43mmax_speed_distance_driver_2\u001b[49m\u001b[43m \u001b[49m\u001b[38;5;241;43m-\u001b[39;49m\u001b[43m \u001b[49m\u001b[38;5;241;43m45\u001b[39;49m\u001b[43m,\u001b[49m\u001b[43m \u001b[49m\u001b[43mmax_speed_driver_2\u001b[49m\u001b[43m \u001b[49m\u001b[38;5;241;43m-\u001b[39;49m\u001b[43m \u001b[49m\u001b[38;5;241;43m65\u001b[39;49m\u001b[43m)\u001b[49m\u001b[43m,\u001b[49m\n\u001b[0;32m     38\u001b[0m \u001b[43m               \u001b[49m\u001b[43marrowprops\u001b[49m\u001b[38;5;241;43m=\u001b[39;49m\u001b[38;5;28;43mdict\u001b[39;49m\u001b[43m(\u001b[49m\u001b[43mfacecolor\u001b[49m\u001b[38;5;241;43m=\u001b[39;49m\u001b[38;5;124;43m'\u001b[39;49m\u001b[38;5;124;43mblack\u001b[39;49m\u001b[38;5;124;43m'\u001b[39;49m\u001b[43m,\u001b[49m\u001b[43m \u001b[49m\u001b[43marrowstyle\u001b[49m\u001b[38;5;241;43m=\u001b[39;49m\u001b[38;5;124;43m'\u001b[39;49m\u001b[38;5;124;43m->\u001b[39;49m\u001b[38;5;124;43m'\u001b[39;49m\u001b[43m,\u001b[49m\u001b[43m \u001b[49m\u001b[43mforeground\u001b[49m\u001b[38;5;241;43m=\u001b[39;49m\u001b[43mteam_driver_2\u001b[49m\u001b[43m)\u001b[49m\u001b[43m,\u001b[49m\n\u001b[0;32m     39\u001b[0m \u001b[43m               \u001b[49m\u001b[43mfontsize\u001b[49m\u001b[38;5;241;43m=\u001b[39;49m\u001b[38;5;241;43m13\u001b[39;49m\u001b[43m)\u001b[49m\n\u001b[0;32m     42\u001b[0m ax[\u001b[38;5;241m0\u001b[39m]\u001b[38;5;241m.\u001b[39mset_title(plot_title, fontweight\u001b[38;5;241m=\u001b[39m\u001b[38;5;124m'\u001b[39m\u001b[38;5;124mbold\u001b[39m\u001b[38;5;124m'\u001b[39m)\n\u001b[0;32m     43\u001b[0m ax[\u001b[38;5;241m0\u001b[39m]\u001b[38;5;241m.\u001b[39mplot(telemetry_driver_1[\u001b[38;5;124m'\u001b[39m\u001b[38;5;124mDistance\u001b[39m\u001b[38;5;124m'\u001b[39m], telemetry_driver_1[\u001b[38;5;124m'\u001b[39m\u001b[38;5;124mSpeed\u001b[39m\u001b[38;5;124m'\u001b[39m], label\u001b[38;5;241m=\u001b[39mdriver_1, color\u001b[38;5;241m=\u001b[39mff1\u001b[38;5;241m.\u001b[39mplotting\u001b[38;5;241m.\u001b[39mteam_color(team_driver_1))\n",
      "File \u001b[1;32m~\\AppData\\Local\\Programs\\Python\\Python311\\Lib\\site-packages\\matplotlib\\axes\\_axes.py:694\u001b[0m, in \u001b[0;36mAxes.annotate\u001b[1;34m(self, text, xy, xytext, xycoords, textcoords, arrowprops, annotation_clip, **kwargs)\u001b[0m\n\u001b[0;32m    689\u001b[0m \u001b[38;5;129m@_docstring\u001b[39m\u001b[38;5;241m.\u001b[39mdedent_interpd\n\u001b[0;32m    690\u001b[0m \u001b[38;5;28;01mdef\u001b[39;00m \u001b[38;5;21mannotate\u001b[39m(\u001b[38;5;28mself\u001b[39m, text, xy, xytext\u001b[38;5;241m=\u001b[39m\u001b[38;5;28;01mNone\u001b[39;00m, xycoords\u001b[38;5;241m=\u001b[39m\u001b[38;5;124m'\u001b[39m\u001b[38;5;124mdata\u001b[39m\u001b[38;5;124m'\u001b[39m, textcoords\u001b[38;5;241m=\u001b[39m\u001b[38;5;28;01mNone\u001b[39;00m,\n\u001b[0;32m    691\u001b[0m              arrowprops\u001b[38;5;241m=\u001b[39m\u001b[38;5;28;01mNone\u001b[39;00m, annotation_clip\u001b[38;5;241m=\u001b[39m\u001b[38;5;28;01mNone\u001b[39;00m, \u001b[38;5;241m*\u001b[39m\u001b[38;5;241m*\u001b[39mkwargs):\n\u001b[0;32m    692\u001b[0m     \u001b[38;5;66;03m# Signature must match Annotation. This is verified in\u001b[39;00m\n\u001b[0;32m    693\u001b[0m     \u001b[38;5;66;03m# test_annotate_signature().\u001b[39;00m\n\u001b[1;32m--> 694\u001b[0m     a \u001b[38;5;241m=\u001b[39m \u001b[43mmtext\u001b[49m\u001b[38;5;241;43m.\u001b[39;49m\u001b[43mAnnotation\u001b[49m\u001b[43m(\u001b[49m\u001b[43mtext\u001b[49m\u001b[43m,\u001b[49m\u001b[43m \u001b[49m\u001b[43mxy\u001b[49m\u001b[43m,\u001b[49m\u001b[43m \u001b[49m\u001b[43mxytext\u001b[49m\u001b[38;5;241;43m=\u001b[39;49m\u001b[43mxytext\u001b[49m\u001b[43m,\u001b[49m\u001b[43m \u001b[49m\u001b[43mxycoords\u001b[49m\u001b[38;5;241;43m=\u001b[39;49m\u001b[43mxycoords\u001b[49m\u001b[43m,\u001b[49m\n\u001b[0;32m    695\u001b[0m \u001b[43m                         \u001b[49m\u001b[43mtextcoords\u001b[49m\u001b[38;5;241;43m=\u001b[39;49m\u001b[43mtextcoords\u001b[49m\u001b[43m,\u001b[49m\u001b[43m \u001b[49m\u001b[43marrowprops\u001b[49m\u001b[38;5;241;43m=\u001b[39;49m\u001b[43marrowprops\u001b[49m\u001b[43m,\u001b[49m\n\u001b[0;32m    696\u001b[0m \u001b[43m                         \u001b[49m\u001b[43mannotation_clip\u001b[49m\u001b[38;5;241;43m=\u001b[39;49m\u001b[43mannotation_clip\u001b[49m\u001b[43m,\u001b[49m\u001b[43m \u001b[49m\u001b[38;5;241;43m*\u001b[39;49m\u001b[38;5;241;43m*\u001b[39;49m\u001b[43mkwargs\u001b[49m\u001b[43m)\u001b[49m\n\u001b[0;32m    697\u001b[0m     a\u001b[38;5;241m.\u001b[39mset_transform(mtransforms\u001b[38;5;241m.\u001b[39mIdentityTransform())\n\u001b[0;32m    698\u001b[0m     \u001b[38;5;28;01mif\u001b[39;00m \u001b[38;5;124m'\u001b[39m\u001b[38;5;124mclip_on\u001b[39m\u001b[38;5;124m'\u001b[39m \u001b[38;5;129;01min\u001b[39;00m kwargs:\n",
      "File \u001b[1;32m~\\AppData\\Local\\Programs\\Python\\Python311\\Lib\\site-packages\\matplotlib\\text.py:1839\u001b[0m, in \u001b[0;36mAnnotation.__init__\u001b[1;34m(self, text, xy, xytext, xycoords, textcoords, arrowprops, annotation_clip, **kwargs)\u001b[0m\n\u001b[0;32m   1836\u001b[0m         \u001b[38;5;28;01mfor\u001b[39;00m key \u001b[38;5;129;01min\u001b[39;00m [\n\u001b[0;32m   1837\u001b[0m                 \u001b[38;5;124m'\u001b[39m\u001b[38;5;124mwidth\u001b[39m\u001b[38;5;124m'\u001b[39m, \u001b[38;5;124m'\u001b[39m\u001b[38;5;124mheadwidth\u001b[39m\u001b[38;5;124m'\u001b[39m, \u001b[38;5;124m'\u001b[39m\u001b[38;5;124mheadlength\u001b[39m\u001b[38;5;124m'\u001b[39m, \u001b[38;5;124m'\u001b[39m\u001b[38;5;124mshrink\u001b[39m\u001b[38;5;124m'\u001b[39m, \u001b[38;5;124m'\u001b[39m\u001b[38;5;124mfrac\u001b[39m\u001b[38;5;124m'\u001b[39m]:\n\u001b[0;32m   1838\u001b[0m             arrowprops\u001b[38;5;241m.\u001b[39mpop(key, \u001b[38;5;28;01mNone\u001b[39;00m)\n\u001b[1;32m-> 1839\u001b[0m     \u001b[38;5;28mself\u001b[39m\u001b[38;5;241m.\u001b[39marrow_patch \u001b[38;5;241m=\u001b[39m \u001b[43mFancyArrowPatch\u001b[49m\u001b[43m(\u001b[49m\u001b[43m(\u001b[49m\u001b[38;5;241;43m0\u001b[39;49m\u001b[43m,\u001b[49m\u001b[43m \u001b[49m\u001b[38;5;241;43m0\u001b[39;49m\u001b[43m)\u001b[49m\u001b[43m,\u001b[49m\u001b[43m \u001b[49m\u001b[43m(\u001b[49m\u001b[38;5;241;43m1\u001b[39;49m\u001b[43m,\u001b[49m\u001b[43m \u001b[49m\u001b[38;5;241;43m1\u001b[39;49m\u001b[43m)\u001b[49m\u001b[43m,\u001b[49m\u001b[43m \u001b[49m\u001b[38;5;241;43m*\u001b[39;49m\u001b[38;5;241;43m*\u001b[39;49m\u001b[43marrowprops\u001b[49m\u001b[43m)\u001b[49m\n\u001b[0;32m   1840\u001b[0m \u001b[38;5;28;01melse\u001b[39;00m:\n\u001b[0;32m   1841\u001b[0m     \u001b[38;5;28mself\u001b[39m\u001b[38;5;241m.\u001b[39marrow_patch \u001b[38;5;241m=\u001b[39m \u001b[38;5;28;01mNone\u001b[39;00m\n",
      "File \u001b[1;32m~\\AppData\\Local\\Programs\\Python\\Python311\\Lib\\site-packages\\matplotlib\\_api\\deprecation.py:454\u001b[0m, in \u001b[0;36mmake_keyword_only.<locals>.wrapper\u001b[1;34m(*args, **kwargs)\u001b[0m\n\u001b[0;32m    448\u001b[0m \u001b[38;5;28;01mif\u001b[39;00m \u001b[38;5;28mlen\u001b[39m(args) \u001b[38;5;241m>\u001b[39m name_idx:\n\u001b[0;32m    449\u001b[0m     warn_deprecated(\n\u001b[0;32m    450\u001b[0m         since, message\u001b[38;5;241m=\u001b[39m\u001b[38;5;124m\"\u001b[39m\u001b[38;5;124mPassing the \u001b[39m\u001b[38;5;132;01m%(name)s\u001b[39;00m\u001b[38;5;124m \u001b[39m\u001b[38;5;132;01m%(obj_type)s\u001b[39;00m\u001b[38;5;124m \u001b[39m\u001b[38;5;124m\"\u001b[39m\n\u001b[0;32m    451\u001b[0m         \u001b[38;5;124m\"\u001b[39m\u001b[38;5;124mpositionally is deprecated since Matplotlib \u001b[39m\u001b[38;5;132;01m%(since)s\u001b[39;00m\u001b[38;5;124m; the \u001b[39m\u001b[38;5;124m\"\u001b[39m\n\u001b[0;32m    452\u001b[0m         \u001b[38;5;124m\"\u001b[39m\u001b[38;5;124mparameter will become keyword-only \u001b[39m\u001b[38;5;132;01m%(removal)s\u001b[39;00m\u001b[38;5;124m.\u001b[39m\u001b[38;5;124m\"\u001b[39m,\n\u001b[0;32m    453\u001b[0m         name\u001b[38;5;241m=\u001b[39mname, obj_type\u001b[38;5;241m=\u001b[39m\u001b[38;5;124mf\u001b[39m\u001b[38;5;124m\"\u001b[39m\u001b[38;5;124mparameter of \u001b[39m\u001b[38;5;132;01m{\u001b[39;00mfunc\u001b[38;5;241m.\u001b[39m\u001b[38;5;18m__name__\u001b[39m\u001b[38;5;132;01m}\u001b[39;00m\u001b[38;5;124m()\u001b[39m\u001b[38;5;124m\"\u001b[39m)\n\u001b[1;32m--> 454\u001b[0m \u001b[38;5;28;01mreturn\u001b[39;00m \u001b[43mfunc\u001b[49m\u001b[43m(\u001b[49m\u001b[38;5;241;43m*\u001b[39;49m\u001b[43margs\u001b[49m\u001b[43m,\u001b[49m\u001b[43m \u001b[49m\u001b[38;5;241;43m*\u001b[39;49m\u001b[38;5;241;43m*\u001b[39;49m\u001b[43mkwargs\u001b[49m\u001b[43m)\u001b[49m\n",
      "File \u001b[1;32m~\\AppData\\Local\\Programs\\Python\\Python311\\Lib\\site-packages\\matplotlib\\patches.py:4229\u001b[0m, in \u001b[0;36mFancyArrowPatch.__init__\u001b[1;34m(self, posA, posB, path, arrowstyle, connectionstyle, patchA, patchB, shrinkA, shrinkB, mutation_scale, mutation_aspect, **kwargs)\u001b[0m\n\u001b[0;32m   4226\u001b[0m kwargs\u001b[38;5;241m.\u001b[39msetdefault(\u001b[38;5;124m\"\u001b[39m\u001b[38;5;124mjoinstyle\u001b[39m\u001b[38;5;124m\"\u001b[39m, JoinStyle\u001b[38;5;241m.\u001b[39mround)\n\u001b[0;32m   4227\u001b[0m kwargs\u001b[38;5;241m.\u001b[39msetdefault(\u001b[38;5;124m\"\u001b[39m\u001b[38;5;124mcapstyle\u001b[39m\u001b[38;5;124m\"\u001b[39m, CapStyle\u001b[38;5;241m.\u001b[39mround)\n\u001b[1;32m-> 4229\u001b[0m \u001b[38;5;28;43msuper\u001b[39;49m\u001b[43m(\u001b[49m\u001b[43m)\u001b[49m\u001b[38;5;241;43m.\u001b[39;49m\u001b[38;5;21;43m__init__\u001b[39;49m\u001b[43m(\u001b[49m\u001b[38;5;241;43m*\u001b[39;49m\u001b[38;5;241;43m*\u001b[39;49m\u001b[43mkwargs\u001b[49m\u001b[43m)\u001b[49m\n\u001b[0;32m   4231\u001b[0m \u001b[38;5;28;01mif\u001b[39;00m posA \u001b[38;5;129;01mis\u001b[39;00m \u001b[38;5;129;01mnot\u001b[39;00m \u001b[38;5;28;01mNone\u001b[39;00m \u001b[38;5;129;01mand\u001b[39;00m posB \u001b[38;5;129;01mis\u001b[39;00m \u001b[38;5;129;01mnot\u001b[39;00m \u001b[38;5;28;01mNone\u001b[39;00m \u001b[38;5;129;01mand\u001b[39;00m path \u001b[38;5;129;01mis\u001b[39;00m \u001b[38;5;28;01mNone\u001b[39;00m:\n\u001b[0;32m   4232\u001b[0m     \u001b[38;5;28mself\u001b[39m\u001b[38;5;241m.\u001b[39m_posA_posB \u001b[38;5;241m=\u001b[39m [posA, posB]\n",
      "File \u001b[1;32m~\\AppData\\Local\\Programs\\Python\\Python311\\Lib\\site-packages\\matplotlib\\_api\\deprecation.py:454\u001b[0m, in \u001b[0;36mmake_keyword_only.<locals>.wrapper\u001b[1;34m(*args, **kwargs)\u001b[0m\n\u001b[0;32m    448\u001b[0m \u001b[38;5;28;01mif\u001b[39;00m \u001b[38;5;28mlen\u001b[39m(args) \u001b[38;5;241m>\u001b[39m name_idx:\n\u001b[0;32m    449\u001b[0m     warn_deprecated(\n\u001b[0;32m    450\u001b[0m         since, message\u001b[38;5;241m=\u001b[39m\u001b[38;5;124m\"\u001b[39m\u001b[38;5;124mPassing the \u001b[39m\u001b[38;5;132;01m%(name)s\u001b[39;00m\u001b[38;5;124m \u001b[39m\u001b[38;5;132;01m%(obj_type)s\u001b[39;00m\u001b[38;5;124m \u001b[39m\u001b[38;5;124m\"\u001b[39m\n\u001b[0;32m    451\u001b[0m         \u001b[38;5;124m\"\u001b[39m\u001b[38;5;124mpositionally is deprecated since Matplotlib \u001b[39m\u001b[38;5;132;01m%(since)s\u001b[39;00m\u001b[38;5;124m; the \u001b[39m\u001b[38;5;124m\"\u001b[39m\n\u001b[0;32m    452\u001b[0m         \u001b[38;5;124m\"\u001b[39m\u001b[38;5;124mparameter will become keyword-only \u001b[39m\u001b[38;5;132;01m%(removal)s\u001b[39;00m\u001b[38;5;124m.\u001b[39m\u001b[38;5;124m\"\u001b[39m,\n\u001b[0;32m    453\u001b[0m         name\u001b[38;5;241m=\u001b[39mname, obj_type\u001b[38;5;241m=\u001b[39m\u001b[38;5;124mf\u001b[39m\u001b[38;5;124m\"\u001b[39m\u001b[38;5;124mparameter of \u001b[39m\u001b[38;5;132;01m{\u001b[39;00mfunc\u001b[38;5;241m.\u001b[39m\u001b[38;5;18m__name__\u001b[39m\u001b[38;5;132;01m}\u001b[39;00m\u001b[38;5;124m()\u001b[39m\u001b[38;5;124m\"\u001b[39m)\n\u001b[1;32m--> 454\u001b[0m \u001b[38;5;28;01mreturn\u001b[39;00m \u001b[43mfunc\u001b[49m\u001b[43m(\u001b[49m\u001b[38;5;241;43m*\u001b[39;49m\u001b[43margs\u001b[49m\u001b[43m,\u001b[49m\u001b[43m \u001b[49m\u001b[38;5;241;43m*\u001b[39;49m\u001b[38;5;241;43m*\u001b[39;49m\u001b[43mkwargs\u001b[49m\u001b[43m)\u001b[49m\n",
      "File \u001b[1;32m~\\AppData\\Local\\Programs\\Python\\Python311\\Lib\\site-packages\\matplotlib\\patches.py:98\u001b[0m, in \u001b[0;36mPatch.__init__\u001b[1;34m(self, edgecolor, facecolor, color, linewidth, linestyle, antialiased, hatch, fill, capstyle, joinstyle, **kwargs)\u001b[0m\n\u001b[0;32m     95\u001b[0m \u001b[38;5;28mself\u001b[39m\u001b[38;5;241m.\u001b[39mset_joinstyle(joinstyle)\n\u001b[0;32m     97\u001b[0m \u001b[38;5;28;01mif\u001b[39;00m \u001b[38;5;28mlen\u001b[39m(kwargs):\n\u001b[1;32m---> 98\u001b[0m     \u001b[38;5;28;43mself\u001b[39;49m\u001b[38;5;241;43m.\u001b[39;49m\u001b[43m_internal_update\u001b[49m\u001b[43m(\u001b[49m\u001b[43mkwargs\u001b[49m\u001b[43m)\u001b[49m\n",
      "File \u001b[1;32m~\\AppData\\Local\\Programs\\Python\\Python311\\Lib\\site-packages\\matplotlib\\artist.py:1186\u001b[0m, in \u001b[0;36mArtist._internal_update\u001b[1;34m(self, kwargs)\u001b[0m\n\u001b[0;32m   1179\u001b[0m \u001b[38;5;28;01mdef\u001b[39;00m \u001b[38;5;21m_internal_update\u001b[39m(\u001b[38;5;28mself\u001b[39m, kwargs):\n\u001b[0;32m   1180\u001b[0m \u001b[38;5;250m    \u001b[39m\u001b[38;5;124;03m\"\"\"\u001b[39;00m\n\u001b[0;32m   1181\u001b[0m \u001b[38;5;124;03m    Update artist properties without prenormalizing them, but generating\u001b[39;00m\n\u001b[0;32m   1182\u001b[0m \u001b[38;5;124;03m    errors as if calling `set`.\u001b[39;00m\n\u001b[0;32m   1183\u001b[0m \n\u001b[0;32m   1184\u001b[0m \u001b[38;5;124;03m    The lack of prenormalization is to maintain backcompatibility.\u001b[39;00m\n\u001b[0;32m   1185\u001b[0m \u001b[38;5;124;03m    \"\"\"\u001b[39;00m\n\u001b[1;32m-> 1186\u001b[0m     \u001b[38;5;28;01mreturn\u001b[39;00m \u001b[38;5;28;43mself\u001b[39;49m\u001b[38;5;241;43m.\u001b[39;49m\u001b[43m_update_props\u001b[49m\u001b[43m(\u001b[49m\n\u001b[0;32m   1187\u001b[0m \u001b[43m        \u001b[49m\u001b[43mkwargs\u001b[49m\u001b[43m,\u001b[49m\u001b[43m \u001b[49m\u001b[38;5;124;43m\"\u001b[39;49m\u001b[38;5;132;43;01m{cls.__name__}\u001b[39;49;00m\u001b[38;5;124;43m.set() got an unexpected keyword argument \u001b[39;49m\u001b[38;5;124;43m\"\u001b[39;49m\n\u001b[0;32m   1188\u001b[0m \u001b[43m        \u001b[49m\u001b[38;5;124;43m\"\u001b[39;49m\u001b[38;5;132;43;01m{prop_name!r}\u001b[39;49;00m\u001b[38;5;124;43m\"\u001b[39;49m\u001b[43m)\u001b[49m\n",
      "File \u001b[1;32m~\\AppData\\Local\\Programs\\Python\\Python311\\Lib\\site-packages\\matplotlib\\artist.py:1160\u001b[0m, in \u001b[0;36mArtist._update_props\u001b[1;34m(self, props, errfmt)\u001b[0m\n\u001b[0;32m   1158\u001b[0m             func \u001b[38;5;241m=\u001b[39m \u001b[38;5;28mgetattr\u001b[39m(\u001b[38;5;28mself\u001b[39m, \u001b[38;5;124mf\u001b[39m\u001b[38;5;124m\"\u001b[39m\u001b[38;5;124mset_\u001b[39m\u001b[38;5;132;01m{\u001b[39;00mk\u001b[38;5;132;01m}\u001b[39;00m\u001b[38;5;124m\"\u001b[39m, \u001b[38;5;28;01mNone\u001b[39;00m)\n\u001b[0;32m   1159\u001b[0m             \u001b[38;5;28;01mif\u001b[39;00m \u001b[38;5;129;01mnot\u001b[39;00m callable(func):\n\u001b[1;32m-> 1160\u001b[0m                 \u001b[38;5;28;01mraise\u001b[39;00m \u001b[38;5;167;01mAttributeError\u001b[39;00m(\n\u001b[0;32m   1161\u001b[0m                     errfmt\u001b[38;5;241m.\u001b[39mformat(\u001b[38;5;28mcls\u001b[39m\u001b[38;5;241m=\u001b[39m\u001b[38;5;28mtype\u001b[39m(\u001b[38;5;28mself\u001b[39m), prop_name\u001b[38;5;241m=\u001b[39mk))\n\u001b[0;32m   1162\u001b[0m             ret\u001b[38;5;241m.\u001b[39mappend(func(v))\n\u001b[0;32m   1163\u001b[0m \u001b[38;5;28;01mif\u001b[39;00m ret:\n",
      "\u001b[1;31mAttributeError\u001b[0m: FancyArrowPatch.set() got an unexpected keyword argument 'foreground'"
     ]
    },
    {
     "data": {
      "image/png": "[encoded data removed]",
      "text/plain": [
       "<Figure size 1300x400 with 2 Axes>"
      ]
     },
     "metadata": {},
     "output_type": "display_data"
    }
   ],
   "source": [
    "plt.rcParams['figure.figsize'] = plot_size\n",
    "plt.rcParams['figure.autolayout'] = autolayout\n",
    "\n",
    "telemetry_colors = {\n",
    "    'Full Throttle': 'green',\n",
    "    'Cornering': 'grey',\n",
    "    'Brake': 'red',\n",
    "}\n",
    "\n",
    "fig, ax = plt.subplots(2)\n",
    "# Filter data by the distance thresholds\n",
    "filtered_telemetry_driver_1 = telemetry_driver_1[(telemetry_driver_1['Distance'] >= distance_min) & (telemetry_driver_1['Distance'] <= distance_max)]\n",
    "filtered_telemetry_driver_2 = telemetry_driver_2[(telemetry_driver_2['Distance'] >= distance_min) & (telemetry_driver_2['Distance'] <= distance_max)]\n",
    "\n",
    "# Find the index of maximum speed for each driver within the thresholds\n",
    "max_speed_index_driver_1 = filtered_telemetry_driver_1['Speed'].idxmax()\n",
    "max_speed_index_driver_2 = filtered_telemetry_driver_2['Speed'].idxmax()\n",
    "\n",
    "# Find the maximum speed for each driver within the thresholds\n",
    "max_speed_driver_1 = telemetry_driver_1.loc[max_speed_index_driver_1, 'Speed']\n",
    "max_speed_driver_2 = telemetry_driver_2.loc[max_speed_index_driver_2, 'Speed']\n",
    "\n",
    "# Find the distance at the maximum speed for each driver within the thresholds\n",
    "max_speed_distance_driver_1 = telemetry_driver_1.loc[max_speed_index_driver_1, 'Distance']\n",
    "max_speed_distance_driver_2 = telemetry_driver_2.loc[max_speed_index_driver_2, 'Distance']\n",
    "\n",
    "# Annotate the maximum speed for driver 1 within the thresholds\n",
    "ax[0].annotate(f'Max Speed: {max_speed_driver_1:.2f} km/h',\n",
    "               xy=(max_speed_distance_driver_1, max_speed_driver_1),\n",
    "               xytext=(max_speed_distance_driver_1 - 400, max_speed_driver_1 + 20),\n",
    "               arrowprops=dict(facecolor='black', arrowstyle='->'),\n",
    "               fontsize=10)\n",
    "\n",
    "# Annotate the maximum speed for driver 2 within the thresholds\n",
    "ax[0].annotate(f'{max_speed_driver_2} km/h',\n",
    "               xy=(max_speed_distance_driver_2, max_speed_driver_2),\n",
    "               xytext=(max_speed_distance_driver_2 - 45, max_speed_driver_2 - 65),\n",
    "               arrowprops=dict(facecolor='black', arrowstyle='->'),\n",
    "               fontsize=13)\n",
    "\n",
    "\n",
    "ax[0].set_title(plot_title, fontweight='bold')\n",
    "ax[0].plot(telemetry_driver_1['Distance'], telemetry_driver_1['Speed'], label=driver_1, color=ff1.plotting.team_color(team_driver_1))\n",
    "ax[0].plot(telemetry_driver_2['Distance'], telemetry_driver_2['Speed'], label=driver_2, color=ff1.plotting.team_color(team_driver_2))\n",
    "\n",
    "ax[0].text(distance_min+15, 200, speed_text, fontsize=15)\n",
    "\n",
    "ax[0].set(ylabel='Speed')\n",
    "ax[0].legend(loc='lower right')\n",
    "\n",
    "for driver in [driver_1, driver_2]:\n",
    "    driver_actions = all_actions.loc[all_actions['Driver'] == driver]\n",
    "    \n",
    "    previous_action_end = 0\n",
    "    for _, action in driver_actions.iterrows():\n",
    "        ax[1].barh(\n",
    "            [driver],\n",
    "            action['DistanceDelta'],\n",
    "            left = previous_action_end,\n",
    "            color = telemetry_colors[action['CurrentAction']]\n",
    "        )\n",
    "        \n",
    "        previous_action_end = previous_action_end + action['DistanceDelta']\n",
    "        \n",
    "plt.xlabel('Distance')\n",
    "\n",
    "plt.gca().invert_yaxis()\n",
    "\n",
    "ax[1].spines['top'].set_visible(False)\n",
    "ax[1].spines['right'].set_visible(False)\n",
    "ax[1].spines['left'].set_visible(False)\n",
    "\n",
    "labels = list(telemetry_colors.keys())\n",
    "handles = [plt.Rectangle((0,0),1,1, color=telemetry_colors[label]) for label in labels]\n",
    "ax[1].legend(handles, labels)\n",
    "\n",
    "ax[0].set_xlim(distance_min, distance_max)\n",
    "ax[1].set_xlim(distance_min, distance_max)\n",
    "\n",
    "# Define the new width and height for the logo\n",
    "new_width = 38\n",
    "new_height = 38\n",
    "# Resize the logo\n",
    "logo_resized = logo_img.resize((new_width, new_height))\n",
    "logo_resized_np = np.array(logo_resized)\n",
    "logo_x = 650\n",
    "logo_y = 172\n",
    "fig.figimage(logo_resized_np, xo=logo_x, yo=logo_y, zorder=1, origin='upper', alpha=1)\n",
    "\n",
    "plt.style.use('dark_background')\n",
    "# plt.savefig(plot_filename, dpi=300)\n",
    "plt.show()\n",
    "# print(laps_driver_1.pick_fastest())\n",
    "# print(laps_driver_2.pick_fastest())"
   ]
  }
 ],
 "metadata": {
  "kernelspec": {
   "display_name": "Python 3 (ipykernel)",
   "language": "python",
   "name": "python3"
  },
  "language_info": {
   "codemirror_mode": {
    "name": "ipython",
    "version": 3
   },
   "file_extension": ".py",
   "mimetype": "text/x-python",
   "name": "python",
   "nbconvert_exporter": "python",
   "pygments_lexer": "ipython3",
   "version": "3.11.2"
  }
 },
 "nbformat": 4,
 "nbformat_minor": 5
}
