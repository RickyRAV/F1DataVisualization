{
 "cells": [
  {
   "cell_type": "code",
   "execution_count": 1,
   "id": "0770050e-1cc4-4f41-be1b-60b35aa017fa",
   "metadata": {},
   "outputs": [],
   "source": [
    "import numpy as np\n",
    "import pandas as pd \n",
    "import fastf1 as ff1\n",
    "from fastf1 import plotting\n",
    "from matplotlib import pyplot as plt\n",
    "from matplotlib.pyplot import figure"
   ]
  },
  {
   "cell_type": "code",
   "execution_count": 2,
   "id": "418a9e63-b104-41e7-82b4-66919494f76f",
   "metadata": {
    "tags": []
   },
   "outputs": [],
   "source": [
    "ff1.Cache.enable_cache('../cache')"
   ]
  },
  {
   "cell_type": "code",
   "execution_count": 3,
   "id": "abf136d7-1654-4a14-bfcd-f983609f011c",
   "metadata": {
    "tags": []
   },
   "outputs": [
    {
     "name": "stderr",
     "output_type": "stream",
     "text": [
      "C:\\Users\\Ricky\\AppData\\Local\\Programs\\Python\\Python311\\Lib\\site-packages\\fastf1\\core.py:1220: FutureWarning: `Session.load_laps` is deprecated and will beremoved in a future version.\n",
      "Use `Session.load` instead.\n",
      "  warnings.warn(\"`Session.load_laps` is deprecated and will be\"\n",
      "core           INFO \tLoading data for Australian Grand Prix - Race [v2.3.0]\n",
      "api            INFO \tUsing cached data for driver_info\n",
      "api            INFO \tUsing cached data for timing_data\n",
      "api            INFO \tUsing cached data for timing_app_data\n",
      "core           INFO \tProcessing timing data...\n",
      "api            INFO \tUsing cached data for session_status_data\n",
      "api            INFO \tUsing cached data for track_status_data\n",
      "C:\\Users\\Ricky\\AppData\\Local\\Programs\\Python\\Python311\\Lib\\site-packages\\fastf1\\core.py:1415: FutureWarning: In a future version, object-dtype columns with all-bool values will not be included in reductions with bool_only=True. Explicitly cast to bool dtype instead.\n",
      "  df = pd.concat([df, result], sort=False)\n",
      "C:\\Users\\Ricky\\AppData\\Local\\Programs\\Python\\Python311\\Lib\\site-packages\\fastf1\\core.py:1415: FutureWarning: In a future version, object-dtype columns with all-bool values will not be included in reductions with bool_only=True. Explicitly cast to bool dtype instead.\n",
      "  df = pd.concat([df, result], sort=False)\n",
      "C:\\Users\\Ricky\\AppData\\Local\\Programs\\Python\\Python311\\Lib\\site-packages\\fastf1\\core.py:1415: FutureWarning: In a future version, object-dtype columns with all-bool values will not be included in reductions with bool_only=True. Explicitly cast to bool dtype instead.\n",
      "  df = pd.concat([df, result], sort=False)\n",
      "C:\\Users\\Ricky\\AppData\\Local\\Programs\\Python\\Python311\\Lib\\site-packages\\fastf1\\core.py:1492: FutureWarning: iteritems is deprecated and will be removed in a future version. Use .items instead.\n",
      "  for key, value in row.iteritems():\n",
      "C:\\Users\\Ricky\\AppData\\Local\\Programs\\Python\\Python311\\Lib\\site-packages\\fastf1\\core.py:1415: FutureWarning: In a future version, object-dtype columns with all-bool values will not be included in reductions with bool_only=True. Explicitly cast to bool dtype instead.\n",
      "  df = pd.concat([df, result], sort=False)\n",
      "C:\\Users\\Ricky\\AppData\\Local\\Programs\\Python\\Python311\\Lib\\site-packages\\fastf1\\core.py:1415: FutureWarning: In a future version, object-dtype columns with all-bool values will not be included in reductions with bool_only=True. Explicitly cast to bool dtype instead.\n",
      "  df = pd.concat([df, result], sort=False)\n",
      "C:\\Users\\Ricky\\AppData\\Local\\Programs\\Python\\Python311\\Lib\\site-packages\\fastf1\\core.py:1492: FutureWarning: iteritems is deprecated and will be removed in a future version. Use .items instead.\n",
      "  for key, value in row.iteritems():\n",
      "C:\\Users\\Ricky\\AppData\\Local\\Programs\\Python\\Python311\\Lib\\site-packages\\fastf1\\core.py:1415: FutureWarning: In a future version, object-dtype columns with all-bool values will not be included in reductions with bool_only=True. Explicitly cast to bool dtype instead.\n",
      "  df = pd.concat([df, result], sort=False)\n",
      "C:\\Users\\Ricky\\AppData\\Local\\Programs\\Python\\Python311\\Lib\\site-packages\\fastf1\\core.py:1492: FutureWarning: iteritems is deprecated and will be removed in a future version. Use .items instead.\n",
      "  for key, value in row.iteritems():\n",
      "C:\\Users\\Ricky\\AppData\\Local\\Programs\\Python\\Python311\\Lib\\site-packages\\fastf1\\core.py:1415: FutureWarning: In a future version, object-dtype columns with all-bool values will not be included in reductions with bool_only=True. Explicitly cast to bool dtype instead.\n",
      "  df = pd.concat([df, result], sort=False)\n",
      "C:\\Users\\Ricky\\AppData\\Local\\Programs\\Python\\Python311\\Lib\\site-packages\\fastf1\\core.py:1492: FutureWarning: iteritems is deprecated and will be removed in a future version. Use .items instead.\n",
      "  for key, value in row.iteritems():\n",
      "C:\\Users\\Ricky\\AppData\\Local\\Programs\\Python\\Python311\\Lib\\site-packages\\fastf1\\core.py:1415: FutureWarning: In a future version, object-dtype columns with all-bool values will not be included in reductions with bool_only=True. Explicitly cast to bool dtype instead.\n",
      "  df = pd.concat([df, result], sort=False)\n",
      "C:\\Users\\Ricky\\AppData\\Local\\Programs\\Python\\Python311\\Lib\\site-packages\\fastf1\\core.py:1415: FutureWarning: In a future version, object-dtype columns with all-bool values will not be included in reductions with bool_only=True. Explicitly cast to bool dtype instead.\n",
      "  df = pd.concat([df, result], sort=False)\n",
      "C:\\Users\\Ricky\\AppData\\Local\\Programs\\Python\\Python311\\Lib\\site-packages\\fastf1\\core.py:1492: FutureWarning: iteritems is deprecated and will be removed in a future version. Use .items instead.\n",
      "  for key, value in row.iteritems():\n",
      "C:\\Users\\Ricky\\AppData\\Local\\Programs\\Python\\Python311\\Lib\\site-packages\\fastf1\\core.py:1415: FutureWarning: In a future version, object-dtype columns with all-bool values will not be included in reductions with bool_only=True. Explicitly cast to bool dtype instead.\n",
      "  df = pd.concat([df, result], sort=False)\n",
      "C:\\Users\\Ricky\\AppData\\Local\\Programs\\Python\\Python311\\Lib\\site-packages\\fastf1\\core.py:1415: FutureWarning: In a future version, object-dtype columns with all-bool values will not be included in reductions with bool_only=True. Explicitly cast to bool dtype instead.\n",
      "  df = pd.concat([df, result], sort=False)\n",
      "C:\\Users\\Ricky\\AppData\\Local\\Programs\\Python\\Python311\\Lib\\site-packages\\fastf1\\core.py:1492: FutureWarning: iteritems is deprecated and will be removed in a future version. Use .items instead.\n",
      "  for key, value in row.iteritems():\n",
      "C:\\Users\\Ricky\\AppData\\Local\\Programs\\Python\\Python311\\Lib\\site-packages\\fastf1\\core.py:1411: FutureWarning: The frame.append method is deprecated and will be removed from pandas in a future version. Use pandas.concat instead.\n",
      "  result = result.append(new_last).reset_index(drop=True)\n",
      "C:\\Users\\Ricky\\AppData\\Local\\Programs\\Python\\Python311\\Lib\\site-packages\\fastf1\\core.py:1415: FutureWarning: In a future version, object-dtype columns with all-bool values will not be included in reductions with bool_only=True. Explicitly cast to bool dtype instead.\n",
      "  df = pd.concat([df, result], sort=False)\n",
      "C:\\Users\\Ricky\\AppData\\Local\\Programs\\Python\\Python311\\Lib\\site-packages\\fastf1\\core.py:1492: FutureWarning: iteritems is deprecated and will be removed in a future version. Use .items instead.\n",
      "  for key, value in row.iteritems():\n",
      "C:\\Users\\Ricky\\AppData\\Local\\Programs\\Python\\Python311\\Lib\\site-packages\\fastf1\\core.py:1411: FutureWarning: The frame.append method is deprecated and will be removed from pandas in a future version. Use pandas.concat instead.\n",
      "  result = result.append(new_last).reset_index(drop=True)\n",
      "C:\\Users\\Ricky\\AppData\\Local\\Programs\\Python\\Python311\\Lib\\site-packages\\fastf1\\core.py:1415: FutureWarning: In a future version, object-dtype columns with all-bool values will not be included in reductions with bool_only=True. Explicitly cast to bool dtype instead.\n",
      "  df = pd.concat([df, result], sort=False)\n",
      "C:\\Users\\Ricky\\AppData\\Local\\Programs\\Python\\Python311\\Lib\\site-packages\\fastf1\\core.py:1492: FutureWarning: iteritems is deprecated and will be removed in a future version. Use .items instead.\n",
      "  for key, value in row.iteritems():\n",
      "C:\\Users\\Ricky\\AppData\\Local\\Programs\\Python\\Python311\\Lib\\site-packages\\fastf1\\core.py:1411: FutureWarning: The frame.append method is deprecated and will be removed from pandas in a future version. Use pandas.concat instead.\n",
      "  result = result.append(new_last).reset_index(drop=True)\n",
      "C:\\Users\\Ricky\\AppData\\Local\\Programs\\Python\\Python311\\Lib\\site-packages\\fastf1\\core.py:1415: FutureWarning: In a future version, object-dtype columns with all-bool values will not be included in reductions with bool_only=True. Explicitly cast to bool dtype instead.\n",
      "  df = pd.concat([df, result], sort=False)\n",
      "C:\\Users\\Ricky\\AppData\\Local\\Programs\\Python\\Python311\\Lib\\site-packages\\fastf1\\core.py:1411: FutureWarning: The frame.append method is deprecated and will be removed from pandas in a future version. Use pandas.concat instead.\n",
      "  result = result.append(new_last).reset_index(drop=True)\n",
      "C:\\Users\\Ricky\\AppData\\Local\\Programs\\Python\\Python311\\Lib\\site-packages\\fastf1\\core.py:1415: FutureWarning: In a future version, object-dtype columns with all-bool values will not be included in reductions with bool_only=True. Explicitly cast to bool dtype instead.\n",
      "  df = pd.concat([df, result], sort=False)\n",
      "C:\\Users\\Ricky\\AppData\\Local\\Programs\\Python\\Python311\\Lib\\site-packages\\fastf1\\core.py:1411: FutureWarning: The frame.append method is deprecated and will be removed from pandas in a future version. Use pandas.concat instead.\n",
      "  result = result.append(new_last).reset_index(drop=True)\n",
      "C:\\Users\\Ricky\\AppData\\Local\\Programs\\Python\\Python311\\Lib\\site-packages\\fastf1\\core.py:1415: FutureWarning: In a future version, object-dtype columns with all-bool values will not be included in reductions with bool_only=True. Explicitly cast to bool dtype instead.\n",
      "  df = pd.concat([df, result], sort=False)\n",
      "C:\\Users\\Ricky\\AppData\\Local\\Programs\\Python\\Python311\\Lib\\site-packages\\fastf1\\core.py:1411: FutureWarning: The frame.append method is deprecated and will be removed from pandas in a future version. Use pandas.concat instead.\n",
      "  result = result.append(new_last).reset_index(drop=True)\n",
      "C:\\Users\\Ricky\\AppData\\Local\\Programs\\Python\\Python311\\Lib\\site-packages\\fastf1\\core.py:1415: FutureWarning: In a future version, object-dtype columns with all-bool values will not be included in reductions with bool_only=True. Explicitly cast to bool dtype instead.\n",
      "  df = pd.concat([df, result], sort=False)\n",
      "C:\\Users\\Ricky\\AppData\\Local\\Programs\\Python\\Python311\\Lib\\site-packages\\fastf1\\core.py:1411: FutureWarning: The frame.append method is deprecated and will be removed from pandas in a future version. Use pandas.concat instead.\n",
      "  result = result.append(new_last).reset_index(drop=True)\n",
      "C:\\Users\\Ricky\\AppData\\Local\\Programs\\Python\\Python311\\Lib\\site-packages\\fastf1\\core.py:1415: FutureWarning: In a future version, object-dtype columns with all-bool values will not be included in reductions with bool_only=True. Explicitly cast to bool dtype instead.\n",
      "  df = pd.concat([df, result], sort=False)\n",
      "C:\\Users\\Ricky\\AppData\\Local\\Programs\\Python\\Python311\\Lib\\site-packages\\fastf1\\core.py:1415: FutureWarning: In a future version, object-dtype columns with all-bool values will not be included in reductions with bool_only=True. Explicitly cast to bool dtype instead.\n",
      "  df = pd.concat([df, result], sort=False)\n",
      "api            INFO \tUsing cached data for car_data\n",
      "api            INFO \tUsing cached data for position_data\n",
      "api            INFO \tUsing cached data for weather_data\n",
      "api            INFO \tUsing cached data for race_control_messages\n",
      "core           INFO \tFinished loading data for 20 drivers: ['1', '44', '14', '18', '11', '4', '27', '81', '24', '22', '77', '55', '10', '31', '21', '2', '20', '63', '23', '16']\n"
     ]
    }
   ],
   "source": [
    "year, event, event_type = 2023, 'Australia', 'R'\n",
    "session = ff1.get_session(year, event, event_type)\n",
    "laps = session.load_laps(with_telemetry=True)"
   ]
  },
  {
   "cell_type": "code",
   "execution_count": 4,
   "id": "ff6c4dd6-f436-493f-b3d5-6a97467e4f45",
   "metadata": {
    "tags": []
   },
   "outputs": [],
   "source": [
    "driver_1, driver_2 = 'VER', 'HAM'\n",
    "distance_min, distance_max = 3300, 3700"
   ]
  },
  {
   "cell_type": "code",
   "execution_count": 5,
   "id": "f3fc2f1b-ca0e-4a3b-a94a-8c24302347f4",
   "metadata": {
    "tags": []
   },
   "outputs": [
    {
     "name": "stderr",
     "output_type": "stream",
     "text": [
      "C:\\Users\\Ricky\\AppData\\Local\\Programs\\Python\\Python311\\Lib\\site-packages\\fastf1\\core.py:378: FutureWarning: In a future version, `df.iloc[:, i] = newvals` will attempt to set the values inplace instead of always setting a new array. To retain the old behavior, use either `df[df.columns[i]] = newvals` or, if columns are non-unique, `df.isetitem(i, newvals)`\n",
      "  data_slice.loc[:, 'Time'] = data_slice['SessionTime'] - start_time\n",
      "C:\\Users\\Ricky\\AppData\\Local\\Programs\\Python\\Python311\\Lib\\site-packages\\fastf1\\core.py:378: FutureWarning: In a future version, `df.iloc[:, i] = newvals` will attempt to set the values inplace instead of always setting a new array. To retain the old behavior, use either `df[df.columns[i]] = newvals` or, if columns are non-unique, `df.isetitem(i, newvals)`\n",
      "  data_slice.loc[:, 'Time'] = data_slice['SessionTime'] - start_time\n"
     ]
    }
   ],
   "source": [
    "laps_driver_1 = laps.pick_driver(driver_1)\n",
    "laps_driver_2 = laps.pick_driver(driver_2)\n",
    "lap_12 = laps_driver_1.loc[laps_driver_1['LapNumber'] == 12]\n",
    "idk_mate = laps_driver_1.loc[laps_driver_1['LapNumber'] == 13]\n",
    "\n",
    "telemetry_driver_1 = laps_driver_1.pick_fastest().get_car_data().add_distance()\n",
    "telemetry_driver_2 = laps_driver_2.pick_fastest().get_car_data().add_distance()\n",
    "\n",
    "team_driver_1 = laps_driver_1.reset_index().loc[0, 'Team']\n",
    "team_driver_2 = laps_driver_2.reset_index().loc[0, 'Team']"
   ]
  },
  {
   "cell_type": "code",
   "execution_count": 6,
   "id": "0f10392f-f93c-4d08-bed0-ecbef6b0f13f",
   "metadata": {
    "tags": []
   },
   "outputs": [],
   "source": [
    "telemetry_driver_1.loc[telemetry_driver_1['Brake'] > 0, 'CurrentAction'] = 'Brake'\n",
    "telemetry_driver_1.loc[telemetry_driver_1['Throttle'] == 100, 'CurrentAction'] = 'Full Throttle'\n",
    "telemetry_driver_1.loc[(telemetry_driver_1['Brake'] == 0) & (telemetry_driver_1['Throttle'] < 100), 'CurrentAction'] = 'Cornering'\n",
    "\n",
    "telemetry_driver_2.loc[telemetry_driver_2['Brake'] > 0, 'CurrentAction'] = 'Brake'\n",
    "telemetry_driver_2.loc[telemetry_driver_2['Throttle'] == 100, 'CurrentAction'] = 'Full Throttle'\n",
    "telemetry_driver_2.loc[(telemetry_driver_2['Brake'] == 0) & (telemetry_driver_2['Throttle'] < 100), 'CurrentAction'] = 'Cornering'"
   ]
  },
  {
   "cell_type": "code",
   "execution_count": 7,
   "id": "6540d5d8-7adf-4a44-bf5b-433ba6f25735",
   "metadata": {
    "tags": []
   },
   "outputs": [],
   "source": [
    "telemetry_driver_1['ActionID'] = (telemetry_driver_1['CurrentAction'] != telemetry_driver_1['CurrentAction'].shift(1)).cumsum()\n",
    "telemetry_driver_2['ActionID'] = (telemetry_driver_2['CurrentAction'] != telemetry_driver_2['CurrentAction'].shift(1)).cumsum()"
   ]
  },
  {
   "cell_type": "code",
   "execution_count": 8,
   "id": "fbbba645-6530-40e8-bb84-9899c8160b60",
   "metadata": {
    "tags": []
   },
   "outputs": [],
   "source": [
    "actions_driver_1 = telemetry_driver_1[['ActionID', 'CurrentAction', 'Distance']].groupby(['ActionID', 'CurrentAction']).max('Distance').reset_index()\n",
    "actions_driver_2 = telemetry_driver_2[['ActionID', 'CurrentAction', 'Distance']].groupby(['ActionID', 'CurrentAction']).max('Distance').reset_index()\n",
    "\n",
    "actions_driver_1['Driver'] = driver_1\n",
    "actions_driver_2['Driver'] = driver_2"
   ]
  },
  {
   "cell_type": "code",
   "execution_count": 9,
   "id": "941a892c-3471-45b0-9d0a-38cd1e265a8d",
   "metadata": {
    "tags": []
   },
   "outputs": [],
   "source": [
    "actions_driver_1['DistanceDelta'] = actions_driver_1['Distance'] - actions_driver_1['Distance'].shift(1)\n",
    "actions_driver_1.loc[0, 'DistanceDelta'] = actions_driver_1.loc[0, 'Distance']\n",
    "\n",
    "actions_driver_2['DistanceDelta'] = actions_driver_2['Distance'] - actions_driver_2['Distance'].shift(1)\n",
    "actions_driver_2.loc[0, 'DistanceDelta'] = actions_driver_2.loc[0, 'Distance']"
   ]
  },
  {
   "cell_type": "code",
   "execution_count": 10,
   "id": "de19a4e4-043b-48da-a84d-281c8e741773",
   "metadata": {
    "tags": []
   },
   "outputs": [
    {
     "name": "stderr",
     "output_type": "stream",
     "text": [
      "C:\\Users\\Ricky\\AppData\\Local\\Temp\\ipykernel_12356\\3193369198.py:1: FutureWarning: The frame.append method is deprecated and will be removed from pandas in a future version. Use pandas.concat instead.\n",
      "  all_actions = actions_driver_1.append(actions_driver_2)\n"
     ]
    }
   ],
   "source": [
    "all_actions = actions_driver_1.append(actions_driver_2)"
   ]
  },
  {
   "cell_type": "code",
   "execution_count": 11,
   "id": "fc36d643-ef6b-4e18-b4b7-865d74c7ccc2",
   "metadata": {
    "tags": []
   },
   "outputs": [],
   "source": [
    "avg_speed_driver_1 = np.mean(telemetry_driver_1['Speed'].loc[\n",
    "    (telemetry_driver_1['Distance'] >= distance_min) & \n",
    "        (telemetry_driver_1['Distance'] <= distance_max) \n",
    "])\n",
    "\n",
    "\n",
    "avg_speed_driver_2 = np.mean(telemetry_driver_2['Speed'].loc[\n",
    "    (telemetry_driver_2['Distance'] >= distance_min) & \n",
    "        (telemetry_driver_2['Distance'] <= distance_max) \n",
    "])\n",
    "\n",
    "if avg_speed_driver_1 > avg_speed_driver_2:    \n",
    "    speed_text = f\"{driver_1} {round(avg_speed_driver_1 - avg_speed_driver_2,2)}km/h faster\"\n",
    "else:\n",
    "    speed_text = f\"{driver_2} {round(avg_speed_driver_2 - avg_speed_driver_1,2)}km/h faster\"\n"
   ]
  },
  {
   "cell_type": "code",
   "execution_count": 12,
   "id": "bb73eb3c-b7b5-4194-881e-2a3bde5044ae",
   "metadata": {
    "tags": []
   },
   "outputs": [],
   "source": [
    "# Add a column for TimeDelta to the telemetry data\n",
    "telemetry_driver_1['TimeDelta'] = telemetry_driver_1['Time'].diff().fillna(pd.Timedelta(seconds=0))\n",
    "telemetry_driver_2['TimeDelta'] = telemetry_driver_2['Time'].diff().fillna(pd.Timedelta(seconds=0))\n",
    "\n",
    "# Calculate total time of the telemetry data for each driver (convert to seconds)\n",
    "total_time_driver_1 = telemetry_driver_1.iloc[-1]['Time'].total_seconds()\n",
    "total_time_driver_2 = telemetry_driver_2.iloc[-1]['Time'].total_seconds()\n",
    "\n",
    "# Calculate total time spent at full throttle for each driver (convert TimeDelta to seconds)\n",
    "full_throttle_time_driver_1 = telemetry_driver_1.loc[telemetry_driver_1['CurrentAction'] == 'Full Throttle', 'TimeDelta'].sum().total_seconds()\n",
    "full_throttle_time_driver_2 = telemetry_driver_2.loc[telemetry_driver_2['CurrentAction'] == 'Full Throttle', 'TimeDelta'].sum().total_seconds()\n",
    "\n",
    "# Calculate the percentage of time spent at full throttle for each driver\n",
    "full_throttle_percentage_driver_1 = (full_throttle_time_driver_1 / total_time_driver_1) * 100\n",
    "full_throttle_percentage_driver_2 = (full_throttle_time_driver_2 / total_time_driver_2) * 100"
   ]
  },
  {
   "cell_type": "code",
   "execution_count": 13,
   "id": "827a978b-f5a5-4045-a998-c86f80e68e1e",
   "metadata": {
    "tags": []
   },
   "outputs": [],
   "source": [
    "plot_size = [13, 4]\n",
    "autolayout = True\n",
    "plot_title = f\"{driver_1} Time Spent at Full Throttle: {full_throttle_percentage_driver_1: .2f}% \\n {driver_2} Time Spent at Full Throttle: {full_throttle_percentage_driver_2: .2f}%\"\n",
    "plot_file = f\"{session.event.year} {session.event.EventName}-{driver_1} VS {driver_2}-CornerAnalasys\"\n",
    "plot_ratios = [7,7]\n",
    "plot_filename = plot_file.replace(\" \", \"\") + \".png\""
   ]
  },
  {
   "cell_type": "code",
   "execution_count": 15,
   "id": "170801ec-bd45-4de8-bc8e-50154f98cd50",
   "metadata": {
    "tags": []
   },
   "outputs": [
    {
     "data": {
      "image/png": "[encoded data removed]",
      "text/plain": [
       "<Figure size 1300x400 with 2 Axes>"
      ]
     },
     "metadata": {},
     "output_type": "display_data"
    }
   ],
   "source": [
    "plt.rcParams['figure.figsize'] = plot_size\n",
    "plt.rcParams['figure.autolayout'] = autolayout\n",
    "\n",
    "telemetry_colors = {\n",
    "    'Full Throttle': 'green',\n",
    "    'Cornering': 'grey',\n",
    "    'Brake': 'red',\n",
    "}\n",
    "\n",
    "fig, ax = plt.subplots(2)\n",
    "ax[0].set_title(plot_title, fontweight='bold')\n",
    "ax[0].plot(telemetry_driver_1['Distance'], telemetry_driver_1['Speed'], label=driver_1, color=ff1.plotting.team_color(team_driver_1))\n",
    "ax[0].plot(telemetry_driver_2['Distance'], telemetry_driver_2['Speed'], label=driver_2, color=ff1.plotting.team_color(team_driver_2))\n",
    "\n",
    "ax[0].text(distance_min+15, 200, speed_text, fontsize=15)\n",
    "\n",
    "ax[0].set(ylabel='Speed')\n",
    "ax[0].legend(loc='lower right')\n",
    "\n",
    "for driver in [driver_1, driver_2]:\n",
    "    driver_actions = all_actions.loc[all_actions['Driver'] == driver]\n",
    "    \n",
    "    previous_action_end = 0\n",
    "    for _, action in driver_actions.iterrows():\n",
    "        ax[1].barh(\n",
    "            [driver],\n",
    "            action['DistanceDelta'],\n",
    "            left = previous_action_end,\n",
    "            color = telemetry_colors[action['CurrentAction']]\n",
    "        )\n",
    "        \n",
    "        previous_action_end = previous_action_end + action['DistanceDelta']\n",
    "        \n",
    "plt.xlabel('Distance')\n",
    "\n",
    "plt.gca().invert_yaxis()\n",
    "\n",
    "ax[1].spines['top'].set_visible(False)\n",
    "ax[1].spines['right'].set_visible(False)\n",
    "ax[1].spines['left'].set_visible(False)\n",
    "\n",
    "labels = list(telemetry_colors.keys())\n",
    "handles = [plt.Rectangle((0,0),1,1, color=telemetry_colors[label]) for label in labels]\n",
    "ax[1].legend(handles, labels)\n",
    "\n",
    "ax[0].set_xlim(distance_min, distance_max)\n",
    "ax[1].set_xlim(distance_min, distance_max)\n",
    "\n",
    "plt.style.use('dark_background')\n",
    "#plt.savefig(plot_filename, dpi=300)\n",
    "plt.show()"
   ]
  }
 ],
 "metadata": {
  "kernelspec": {
   "display_name": "Python 3 (ipykernel)",
   "language": "python",
   "name": "python3"
  },
  "language_info": {
   "codemirror_mode": {
    "name": "ipython",
    "version": 3
   },
   "file_extension": ".py",
   "mimetype": "text/x-python",
   "name": "python",
   "nbconvert_exporter": "python",
   "pygments_lexer": "ipython3",
   "version": "3.11.2"
  }
 },
 "nbformat": 4,
 "nbformat_minor": 5
}
